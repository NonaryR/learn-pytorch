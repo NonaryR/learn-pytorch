{
 "cells": [
  {
   "cell_type": "code",
   "execution_count": 1,
   "metadata": {},
   "outputs": [],
   "source": [
    "import torch\n",
    "import torch.autograd as autograd\n",
    "import torch.nn as nn\n",
    "import torch.optim as optim\n",
    "import itertools\n",
    "import time"
   ]
  },
  {
   "cell_type": "code",
   "execution_count": 2,
   "metadata": {},
   "outputs": [],
   "source": [
    "class EmbeddingDict(object):\n",
    "    def __init__(self, path):\n",
    "        self.word_to_idx = {}\n",
    "        vecs = []\n",
    "\n",
    "        for line in open(path, 'r'):\n",
    "            word, *dims = line.split(' ')\n",
    "            dims = torch.FloatTensor([float(x) for x in dims])\n",
    "            self.word_to_idx[word] = len(self.word_to_idx)\n",
    "            vecs.append(dims)\n",
    "        self.embeddings = torch.stack(vecs)\n",
    "\n",
    "    def convert(self, sentence):\n",
    "        idxs = [self.word_to_idx.get(w, -1) for w in sentence]\n",
    "        idxs = [i for i in idxs if i >= 0]\n",
    "        if len(idxs) == 0:\n",
    "            return None\n",
    "        return autograd.Variable(torch.LongTensor(idxs))"
   ]
  },
  {
   "cell_type": "code",
   "execution_count": 3,
   "metadata": {},
   "outputs": [],
   "source": [
    "class GRUTagger(nn.Module):\n",
    "\n",
    "    def __init__(self, embed_dict, hidden_dim, num_classes):\n",
    "        super(GRUTagger, self).__init__()\n",
    "        self.hidden_dim = hidden_dim\n",
    "        self.embed_dict = embed_dict\n",
    "        vocab_size, embedding_dim = embed_dict.embeddings.size()\n",
    "        self.word_embeddings = nn.Embedding(vocab_size, embedding_dim)\n",
    "        # freeze embeddings\n",
    "        self.word_embeddings.weight.data.copy_(embed_dict.embeddings)\n",
    "        self.word_embeddings.weight.requires_grad = False\n",
    "        # single layer bidirectional GRU\n",
    "        self.num_dirs = 2\n",
    "        self.gru = nn.GRU(embedding_dim, hidden_dim, bidirectional=True)\n",
    "        # The linear layer that maps from hidden state space to tag space\n",
    "        self.hidden2tag = nn.Linear(self.num_dirs * hidden_dim, num_classes)\n",
    "        self.dropout = nn.Dropout(0.5)\n",
    "        self.hidden = self.init_hidden\n",
    "\n",
    "    @property\n",
    "    def init_hidden(self):\n",
    "        return autograd.Variable(torch.zeros(self.num_dirs, 1, self.hidden_dim))\n",
    "\n",
    "    def forward(self, sentence):\n",
    "        embeds = self.word_embeddings(sentence)\n",
    "        flatten_input = embeds.view(len(sentence), 1, -1)\n",
    "        gru_out, self.hidden = self.gru(flatten_input, self.hidden)\n",
    "        hidden_state = gru_out[-1].view(1, self.num_dirs * self.hidden_dim)\n",
    "        hidden_state = self.dropout(hidden_state)\n",
    "        return self.hidden2tag(hidden_state)"
   ]
  },
  {
   "cell_type": "code",
   "execution_count": 4,
   "metadata": {},
   "outputs": [],
   "source": [
    "def load_data(path):\n",
    "    for line in open(path, 'rb'):\n",
    "        try:\n",
    "            label, *sent = line.decode('utf-8').split(' ')\n",
    "            yield sent, int(label)\n",
    "        except:\n",
    "            continue"
   ]
  },
  {
   "cell_type": "code",
   "execution_count": 5,
   "metadata": {},
   "outputs": [],
   "source": [
    "def chunks(lst, n):\n",
    "    for i in range(0, len(lst), n):\n",
    "        yield lst[i:i + n]\n",
    "    remainder = len(lst) % n\n",
    "    if remainder > 0:\n",
    "        yield lst[-remainder:]"
   ]
  },
  {
   "cell_type": "code",
   "execution_count": 6,
   "metadata": {},
   "outputs": [],
   "source": [
    "def evaluate(model, data):\n",
    "    model.eval()\n",
    "    num_correct, num_total = 0, 0\n",
    "    for sentence, label in data:\n",
    "        model.hidden = model.init_hidden\n",
    "        sentence = embed_dict.convert(sentence)\n",
    "        if sentence is None:\n",
    "            continue\n",
    "        tag_scores = model(sentence)\n",
    "        if tag_scores is None:\n",
    "            continue\n",
    "        predict = tag_scores.data.numpy().argmax()\n",
    "        if predict == label:\n",
    "            num_correct += 1\n",
    "        num_total += 1\n",
    "    return float(num_correct)/float(num_total)"
   ]
  },
  {
   "cell_type": "code",
   "execution_count": 7,
   "metadata": {},
   "outputs": [
    {
     "name": "stderr",
     "output_type": "stream",
     "text": [
      "Exception ignored in: <generator object load_data at 0x104337d58>\n",
      "RuntimeError: generator ignored GeneratorExit\n",
      "Exception ignored in: <generator object load_data at 0x104337d58>\n",
      "RuntimeError: generator ignored GeneratorExit\n"
     ]
    }
   ],
   "source": [
    "n = 2000\n",
    "batch_size = 32\n",
    "lstm_size = 25\n",
    "embed_dict = EmbeddingDict(\"data/small-glove.50d.txt\")\n",
    "train_data = list(itertools.islice(load_data(\"data/sentiment-train10k.txt\"), n))\n",
    "test_data = list(itertools.islice(load_data(\"data/sentiment-test10k.txt\"), n))\n",
    "model = GRUTagger(embed_dict, lstm_size, 2)\n",
    "loss_function = nn.CrossEntropyLoss()\n",
    "learned_params = [param for pname, param in model.named_parameters() if 'word_embeddings' not in pname]\n",
    "optimizer = optim.Adadelta(learned_params)"
   ]
  },
  {
   "cell_type": "code",
   "execution_count": 8,
   "metadata": {},
   "outputs": [
    {
     "name": "stdout",
     "output_type": "stream",
     "text": [
      "Train Accuracy:  0.599799899949975\n",
      "Test Accuracy:  0.5925\n",
      "End of epoch 0: 1381.95458984375 [31172 ms]\n",
      "Train Accuracy:  0.7013506753376688\n",
      "Test Accuracy:  0.688\n",
      "End of epoch 1: 1273.088623046875 [28313 ms]\n",
      "Train Accuracy:  0.7248624312156078\n",
      "Test Accuracy:  0.7125\n",
      "End of epoch 2: 1157.6312255859375 [30121 ms]\n",
      "Train Accuracy:  0.7373686843421711\n",
      "Test Accuracy:  0.723\n",
      "End of epoch 3: 1090.34033203125 [29576 ms]\n",
      "Train Accuracy:  0.7528764382191095\n",
      "Test Accuracy:  0.7345\n",
      "End of epoch 4: 1042.017333984375 [31145 ms]\n",
      "Train Accuracy:  0.7673836918459229\n",
      "Test Accuracy:  0.746\n",
      "End of epoch 5: 1007.1766967773438 [33939 ms]\n",
      "Train Accuracy:  0.7748874437218609\n",
      "Test Accuracy:  0.7515\n",
      "End of epoch 6: 976.752197265625 [31245 ms]\n",
      "Train Accuracy:  0.7863931965982992\n",
      "Test Accuracy:  0.761\n",
      "End of epoch 7: 943.0791625976562 [29606 ms]\n",
      "Train Accuracy:  0.7853926963481741\n",
      "Test Accuracy:  0.764\n",
      "End of epoch 8: 926.1249389648438 [30087 ms]\n",
      "Train Accuracy:  0.799399699849925\n",
      "Test Accuracy:  0.775\n",
      "End of epoch 9: 889.488525390625 [29442 ms]\n"
     ]
    }
   ],
   "source": [
    "for epoch in range(10):\n",
    "    total_loss = torch.Tensor([0])\n",
    "    start_iter = int(round(time.time() * 1000))\n",
    "    model.train()\n",
    "    for batch in chunks(train_data, batch_size):\n",
    "        model.zero_grad()\n",
    "        for sentence, label in batch:\n",
    "            model.hidden = model.init_hidden\n",
    "            sentence = embed_dict.convert(sentence)\n",
    "            if sentence is None:\n",
    "                continue\n",
    "            tag_scores = model(sentence)\n",
    "            label_var = autograd.Variable(torch.LongTensor([label]))\n",
    "            loss = loss_function(tag_scores, label_var)\n",
    "            total_loss += loss.data\n",
    "            loss.backward()\n",
    "        optimizer.step()\n",
    "\n",
    "    train_acc = evaluate(model, train_data)\n",
    "    test_acc = evaluate(model, test_data)\n",
    "    print('Train Accuracy: ', train_acc)\n",
    "    print('Test Accuracy: ', test_acc)\n",
    "    num_millis = int(round(time.time() * 1000)) - start_iter\n",
    "    print('End of epoch {}: {} [{} ms]'.format(epoch, total_loss[0], num_millis))"
   ]
  },
  {
   "cell_type": "code",
   "execution_count": null,
   "metadata": {},
   "outputs": [],
   "source": []
  }
 ],
 "metadata": {
  "kernelspec": {
   "display_name": "Python 3",
   "language": "python",
   "name": "python3"
  },
  "language_info": {
   "codemirror_mode": {
    "name": "ipython",
    "version": 3
   },
   "file_extension": ".py",
   "mimetype": "text/x-python",
   "name": "python",
   "nbconvert_exporter": "python",
   "pygments_lexer": "ipython3",
   "version": "3.6.4"
  }
 },
 "nbformat": 4,
 "nbformat_minor": 2
}
